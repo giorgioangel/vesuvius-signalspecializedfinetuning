{
 "cells": [
  {
   "cell_type": "code",
   "execution_count": 1,
   "metadata": {},
   "outputs": [
    {
     "name": "stdout",
     "output_type": "stream",
     "text": [
      "Jupyter environment detected. Enabling Open3D WebVisualizer.\n",
      "[Open3D INFO] WebRTC GUI backend enabled.\n",
      "[Open3D INFO] WebRTCWindowSystem: HTTP handshake server disabled.\n"
     ]
    }
   ],
   "source": [
    "import torch\n",
    "import torch.optim as optim\n",
    "from signalsurface.signal import *\n",
    "from tqdm import tqdm\n",
    "import open3d as o3d\n",
    "import tifffile as tiff\n",
    "import os\n",
    "import glob\n",
    "import igl\n",
    "from matplotlib import pyplot as plt\n",
    "import numpy as np"
   ]
  },
  {
   "cell_type": "code",
   "execution_count": 2,
   "metadata": {},
   "outputs": [
    {
     "name": "stdout",
     "output_type": "stream",
     "text": [
      "[[2317.31357336   95.4264842 ]\n",
      " [2333.52226734  103.69185442]\n",
      " [2347.08236217   92.01115053]]\n"
     ]
    }
   ],
   "source": [
    "mesh = o3d.io.read_triangle_mesh(\"20231205141500/20231205141500.obj\")\n",
    "V = np.asarray(mesh.vertices)\n",
    "N = np.asarray(mesh.vertex_normals)\n",
    "UV = np.asarray(mesh.triangle_uvs)  # Ensure your mesh has UV coordinates\n",
    "F = np.asarray(mesh.triangles)\n",
    "UV[:,0] *= 9040 # multiply by the right dimension\n",
    "UV[:,1] *= 1925\n",
    "uv = np.zeros((V.shape[0], 2), dtype=np.float64)\n",
    "uvs = UV.reshape((F.shape[0], F.shape[1], 2))\n",
    "\n",
    "for t in range(F.shape[0]):\n",
    "    for v in range(F.shape[1]):\n",
    "        uv[F[t,v]] = uvs[t,v]\n",
    "uvs.shape\n",
    "print(uvs[0])"
   ]
  },
  {
   "cell_type": "code",
   "execution_count": 3,
   "metadata": {},
   "outputs": [],
   "source": [
    "Vr = np.round(V).astype(np.uint16)\n",
    "vertices = Vr[F]\n",
    "q = np.zeros(Vr.shape[0])"
   ]
  },
  {
   "cell_type": "code",
   "execution_count": 4,
   "metadata": {},
   "outputs": [
    {
     "name": "stderr",
     "output_type": "stream",
     "text": [
      "100%|██████████| 50426/50426 [00:00<00:00, 234186.70it/s]\n"
     ]
    }
   ],
   "source": [
    "needed_cubes = set()\n",
    "for i in tqdm(range(Vr.shape[0])):\n",
    "    x, y, z = Vr[i]\n",
    "    x_cell = x//500 + 1\n",
    "    y_cell = y//500 + 1\n",
    "    z_cell = z//500 + 1\n",
    "    needed_cubes.add((y_cell,x_cell,z_cell))"
   ]
  },
  {
   "cell_type": "code",
   "execution_count": 6,
   "metadata": {},
   "outputs": [
    {
     "name": "stderr",
     "output_type": "stream",
     "text": [
      "  0%|          | 0/50426 [00:00<?, ?it/s]"
     ]
    },
    {
     "name": "stderr",
     "output_type": "stream",
     "text": [
      "100%|██████████| 50426/50426 [00:00<00:00, 122125.30it/s]\n"
     ]
    }
   ],
   "source": [
    "cube_dict = {item: [] for item in needed_cubes}\n",
    "for i in tqdm(range(Vr.shape[0])):\n",
    "    x, y, z = Vr[i]\n",
    "    x_cell = x//500 + 1\n",
    "    y_cell = y//500 + 1\n",
    "    z_cell = z//500 + 1\n",
    "\n",
    "    x_coord = x%500\n",
    "    y_coord = y%500\n",
    "    z_coord = z%500\n",
    "    cube_dict[(y_cell,x_cell,z_cell)].append([i,z_coord,y_coord,x_coord])"
   ]
  },
  {
   "cell_type": "code",
   "execution_count": null,
   "metadata": {},
   "outputs": [],
   "source": []
  },
  {
   "cell_type": "code",
   "execution_count": 7,
   "metadata": {},
   "outputs": [
    {
     "name": "stderr",
     "output_type": "stream",
     "text": [
      "100%|██████████| 24/24 [00:22<00:00,  1.05it/s]\n"
     ]
    }
   ],
   "source": [
    "for key, values in tqdm(cube_dict.items()):\n",
    "    y_cell, x_cell, z_cell = key\n",
    "    with tiff.TiffFile(f\"D:/vesuvius/Scroll1.volpkg/volume_grids/20230205180739/cell_yxz_{y_cell:03d}_{x_cell:03d}_{z_cell:03d}.tif\") as img:\n",
    "        img = img.asarray()\n",
    "        for element in values:\n",
    "            q[element[0]] = img[element[1],element[2],element[3]]\n",
    "\n",
    "    \n",
    "\n",
    "\n"
   ]
  },
  {
   "cell_type": "code",
   "execution_count": null,
   "metadata": {},
   "outputs": [
    {
     "data": {
      "text/plain": [
       "(649608,)"
      ]
     },
     "execution_count": 32,
     "metadata": {},
     "output_type": "execute_result"
    }
   ],
   "source": [
    "q.shape"
   ]
  },
  {
   "cell_type": "code",
   "execution_count": 8,
   "metadata": {},
   "outputs": [
    {
     "name": "stderr",
     "output_type": "stream",
     "text": [
      "100%|██████████| 99740/99740 [00:00<00:00, 876741.59it/s]\n"
     ]
    }
   ],
   "source": [
    "q_faces = np.zeros((F.shape[0],3))\n",
    "for i in tqdm(range(F.shape[0])):\n",
    "    for t in range(3):\n",
    "        q_faces[i,t] = q[F[i,t]]"
   ]
  },
  {
   "cell_type": "code",
   "execution_count": 9,
   "metadata": {},
   "outputs": [],
   "source": [
    "q_f_torch = torch.from_numpy(q_faces)"
   ]
  },
  {
   "cell_type": "code",
   "execution_count": 11,
   "metadata": {},
   "outputs": [],
   "source": [
    "\n",
    "p_torch = torch.from_numpy(uv).detach().requires_grad_(True)\n",
    "vertices = torch.from_numpy(V)\n",
    "faces = torch.from_numpy(F)\n",
    "optimizer = optim.AdamW([p_torch], lr=0.01)  # or any other optimizer and learning rate\n",
    "scheduler = torch.optim.lr_scheduler.ExponentialLR(optimizer, gamma=0.99)"
   ]
  },
  {
   "cell_type": "code",
   "execution_count": 12,
   "metadata": {},
   "outputs": [
    {
     "name": "stdout",
     "output_type": "stream",
     "text": [
      "Iteration 0, Energy: 13810606775841.2\n",
      "Iteration 100, Energy: 12897481644243.771\n",
      "Iteration 200, Energy: 12613647904825.98\n",
      "Iteration 300, Energy: 12513884368282.559\n",
      "Iteration 400, Energy: 12477566925083.332\n",
      "Iteration 500, Energy: 12464213334036.95\n",
      "Iteration 600, Energy: 12459293312185.188\n",
      "Iteration 700, Energy: 12457481259554.367\n",
      "Iteration 800, Energy: 12456814512077.07\n",
      "Iteration 900, Energy: 12456569412585.338\n",
      "Iteration 1000, Energy: 12456479383916.895\n",
      "Iteration 1100, Energy: 12456446335767.541\n",
      "Iteration 1200, Energy: 12456434210257.617\n",
      "Iteration 1300, Energy: 12456429763076.66\n",
      "Iteration 1400, Energy: 12456428132520.064\n",
      "Iteration 1500, Energy: 12456427534825.572\n",
      "Iteration 1600, Energy: 12456427315779.809\n",
      "Iteration 1700, Energy: 12456427235516.324\n",
      "Iteration 1800, Energy: 12456427206110.027\n",
      "Iteration 1900, Energy: 12456427195337.77\n"
     ]
    }
   ],
   "source": [
    "energies = []\n",
    "for iteration in range(2000):  # or another convergence condition\n",
    "    optimizer.zero_grad()  # Reset gradients\n",
    "    en = energy(p_torch, q_f_torch, faces)  # Compute current energ\n",
    "    en.backward()  # Compute gradients\n",
    "    #print(x.grad, torch.any(torch.isnan(x.grad)))\n",
    "    torch.nn.utils.clip_grad_norm_(p_torch.grad, max_norm=1.0)\n",
    "    #print(x.grad)\n",
    "    optimizer.step()  # Update positions\n",
    "    scheduler.step()\n",
    "    #x_old = x.clone().detach().requires_grad_(False)\n",
    "    if iteration % 100 == 0:  # Periodically check convergence or log progress\n",
    "        print(f'Iteration {iteration}, Energy: {en.item()}')\n",
    "        energies.append(en.item())"
   ]
  },
  {
   "cell_type": "code",
   "execution_count": 13,
   "metadata": {},
   "outputs": [
    {
     "data": {
      "text/plain": [
       "[<matplotlib.lines.Line2D at 0x208407cbfd0>]"
      ]
     },
     "execution_count": 13,
     "metadata": {},
     "output_type": "execute_result"
    },
    {
     "data": {
      "image/png": "[encoded data removed]",
      "text/plain": [
       "<Figure size 640x480 with 1 Axes>"
      ]
     },
     "metadata": {},
     "output_type": "display_data"
    }
   ],
   "source": [
    "plt.plot(energies)"
   ]
  },
  {
   "cell_type": "code",
   "execution_count": 14,
   "metadata": {},
   "outputs": [],
   "source": [
    "pt_view = p_torch.view(-1,2).clone().detach().numpy()"
   ]
  },
  {
   "cell_type": "code",
   "execution_count": 15,
   "metadata": {},
   "outputs": [
    {
     "data": {
      "text/plain": [
       "<matplotlib.collections.PathCollection at 0x20840e1d330>"
      ]
     },
     "execution_count": 15,
     "metadata": {},
     "output_type": "execute_result"
    },
    {
     "data": {
      "image/png": "[encoded data removed]",
      "text/plain": [
       "<Figure size 640x480 with 1 Axes>"
      ]
     },
     "metadata": {},
     "output_type": "display_data"
    }
   ],
   "source": [
    "plt.scatter(pt_view[:,0], pt_view[:,1])"
   ]
  },
  {
   "cell_type": "code",
   "execution_count": 16,
   "metadata": {},
   "outputs": [],
   "source": [
    "uvs_ssp = np.zeros_like(uvs)\n",
    "for i in range(F.shape[0]):\n",
    "    for t in range(F.shape[1]):\n",
    "        uvs_ssp[i,t] = pt_view[F[i,t]]\n",
    "uvs_ssp = uvs_ssp.reshape(-1,2)"
   ]
  },
  {
   "cell_type": "code",
   "execution_count": 22,
   "metadata": {},
   "outputs": [
    {
     "data": {
      "text/plain": [
       "array([2295.23952826,   93.49519712])"
      ]
     },
     "execution_count": 22,
     "metadata": {},
     "output_type": "execute_result"
    }
   ],
   "source": [
    "uvs_ssp[0]"
   ]
  },
  {
   "cell_type": "code",
   "execution_count": 48,
   "metadata": {},
   "outputs": [
    {
     "data": {
      "text/plain": [
       "False"
      ]
     },
     "execution_count": 48,
     "metadata": {},
     "output_type": "execute_result"
    }
   ],
   "source": [
    "np.allclose(uvs,pt_view.reshape(-1,3,2))"
   ]
  },
  {
   "cell_type": "code",
   "execution_count": 23,
   "metadata": {},
   "outputs": [],
   "source": [
    "uv_max = np.max(uvs_ssp, axis=0)\n",
    "uv_min = np.min(uvs_ssp, axis=0)\n",
    "\n",
    "\n"
   ]
  },
  {
   "cell_type": "code",
   "execution_count": 24,
   "metadata": {},
   "outputs": [],
   "source": [
    "size_uvs = np.ceil(uv_max-uv_min)"
   ]
  },
  {
   "cell_type": "code",
   "execution_count": 25,
   "metadata": {},
   "outputs": [],
   "source": [
    "from PIL import Image\n",
    "Image.MAX_IMAGE_PIXELS = None"
   ]
  },
  {
   "cell_type": "code",
   "execution_count": 26,
   "metadata": {},
   "outputs": [],
   "source": [
    "image_path = \"20231205141500/20231205141500_ssp.png\"\n",
    "# Create a white image of the determined size\n",
    "image_size = (int(size_uvs[0]), int(size_uvs[1]))\n",
    "white_image = np.ones((image_size[1], image_size[0]), dtype=np.uint16) * 65535\n",
    "\n",
    "# Save the grayscale image\n",
    "Image.fromarray(white_image, mode='L').save(image_path)"
   ]
  },
  {
   "cell_type": "code",
   "execution_count": 27,
   "metadata": {},
   "outputs": [],
   "source": [
    "uvs_ssp -= uv_min\n",
    "uvs_ssp /= (uv_max-uv_min)"
   ]
  },
  {
   "cell_type": "code",
   "execution_count": 28,
   "metadata": {},
   "outputs": [],
   "source": [
    "mesh.triangle_uvs = o3d.utility.Vector2dVector(uvs_ssp)"
   ]
  },
  {
   "cell_type": "code",
   "execution_count": 29,
   "metadata": {},
   "outputs": [
    {
     "name": "stdout",
     "output_type": "stream",
     "text": [
      "[Open3D WARNING] Write PNG failed: image has no data.\n",
      "[Open3D WARNING] Write OBJ successful, but failed to write texture file.\n"
     ]
    },
    {
     "data": {
      "text/plain": [
       "True"
      ]
     },
     "execution_count": 29,
     "metadata": {},
     "output_type": "execute_result"
    }
   ],
   "source": [
    "o3d.io.write_triangle_mesh('20231205141500/20231205141500_ssp.obj', mesh)"
   ]
  },
  {
   "cell_type": "code",
   "execution_count": 33,
   "metadata": {},
   "outputs": [
    {
     "data": {
      "text/plain": [
       "(299220, 2)"
      ]
     },
     "execution_count": 33,
     "metadata": {},
     "output_type": "execute_result"
    }
   ],
   "source": [
    "UV.shape"
   ]
  },
  {
   "cell_type": "code",
   "execution_count": 31,
   "metadata": {},
   "outputs": [
    {
     "data": {
      "text/plain": [
       "<matplotlib.collections.PathCollection at 0x208410e7f70>"
      ]
     },
     "execution_count": 31,
     "metadata": {},
     "output_type": "execute_result"
    },
    {
     "data": {
      "image/png": "[encoded data removed]",
      "text/plain": [
       "<Figure size 640x480 with 1 Axes>"
      ]
     },
     "metadata": {},
     "output_type": "display_data"
    }
   ],
   "source": [
    "plt.scatter(uvs_ssp[:,0], uvs_ssp[:,1])"
   ]
  },
  {
   "cell_type": "code",
   "execution_count": 117,
   "metadata": {},
   "outputs": [],
   "source": [
    "### SLIMMING\n",
    "mesh = o3d.io.read_triangle_mesh(\"20231205141500/20231205141500.obj\")\n",
    "V = np.asarray(mesh.vertices)\n",
    "N = np.asarray(mesh.vertex_normals)\n",
    "UV = np.asarray(mesh.triangle_uvs)  # Ensure your mesh has UV coordinates\n",
    "F = np.asarray(mesh.triangles)\n",
    "_, _, F_int = igl.intrinsic_delaunay_cotmatrix(V, F) # compute intrinsic delaunay triangulation\n",
    "#F_int = F\n"
   ]
  },
  {
   "cell_type": "code",
   "execution_count": 144,
   "metadata": {},
   "outputs": [],
   "source": [
    "bnd = igl.boundary_loop(F_int)\n",
    "bnd_uv = igl.map_vertices_to_circle(V, bnd)\n",
    "uv_init = igl.harmonic(V, F_int, bnd, bnd_uv, 1)\n",
    "bnd_uv = np.zeros((bnd.shape[0], 2), dtype=np.float64)\n",
    "\n",
    "for i in range(bnd.shape[0]):\n",
    "     bnd_uv[i] = uv_init[bnd[i]]"
   ]
  },
  {
   "cell_type": "code",
   "execution_count": 119,
   "metadata": {},
   "outputs": [],
   "source": [
    "slim = igl.SLIM(V, F_int, v_init=uv_init, b=bnd, bc=bnd_uv, energy_type=igl.SLIM_ENERGY_TYPE_SYMMETRIC_DIRICHLET, soft_penalty=0)"
   ]
  },
  {
   "cell_type": "code",
   "execution_count": 120,
   "metadata": {},
   "outputs": [
    {
     "name": "stdout",
     "output_type": "stream",
     "text": [
      "0\n",
      "131322918.814 38169883.413\n",
      "1\n",
      "38169883.413 7409326.589\n",
      "2\n",
      "7409326.589 2060192.454\n",
      "3\n",
      "2060192.454 316288.681\n",
      "4\n",
      "316288.681 9510.864\n",
      "5\n",
      "9510.864 1829.404\n",
      "6\n",
      "1829.404 148.794\n",
      "7\n",
      "148.794 42.085\n",
      "8\n",
      "42.085 12.686\n",
      "9\n",
      "12.686 9.718\n",
      "10\n",
      "9.718 8.201\n",
      "11\n",
      "8.201 8.120\n",
      "12\n",
      "8.120 8.062\n",
      "13\n",
      "8.062 8.055\n",
      "14\n",
      "8.055 8.054\n",
      "15\n",
      "8.054 8.050\n",
      "16\n",
      "8.050 8.049\n",
      "17\n",
      "8.049 8.049\n",
      "18\n",
      "8.049 8.048\n",
      "19\n",
      "8.048 8.048\n",
      "20\n",
      "8.048 8.048\n",
      "21\n",
      "8.048 8.048\n",
      "22\n",
      "8.048 8.047\n",
      "23\n",
      "8.047 8.047\n",
      "24\n",
      "8.047 8.047\n",
      "25\n",
      "8.047 8.047\n",
      "26\n",
      "8.047 8.047\n",
      "27\n",
      "8.047 8.047\n",
      "28\n",
      "8.047 8.047\n",
      "29\n",
      "8.047 8.047\n",
      "30\n",
      "8.047 8.047\n",
      "31\n",
      "8.047 8.047\n",
      "32\n",
      "8.047 8.047\n"
     ]
    }
   ],
   "source": [
    "threshold = 1e-5\n",
    "converged = False\n",
    "iteration = 0\n",
    "while (not converged) and (iteration < 20000):\n",
    "    print(iteration)\n",
    "    temp_energy = slim.energy()\n",
    "    slim.solve(1)\n",
    "    new_energy = slim.energy()\n",
    "    iteration += 1\n",
    "    print(f\"{temp_energy:.3f} {new_energy:.3f}\")\n",
    "    if new_energy >= float(\"inf\") or new_energy == float(\"nan\") or np.isnan(new_energy) or np.isinf(new_energy):\n",
    "        continue\n",
    "    elif new_energy < temp_energy:\n",
    "        if abs(new_energy - temp_energy) < threshold:\n",
    "            converged = True\n",
    "        else:\n",
    "            converged = False\n",
    "    else:\n",
    "        converged = True"
   ]
  },
  {
   "cell_type": "code",
   "execution_count": 121,
   "metadata": {},
   "outputs": [],
   "source": [
    "def orient_uvs(vertices):\n",
    "        # Rotate vertices and calculate the needed area\n",
    "        vertices[:, 0] = 1.0 - vertices[:, 0]\n",
    "        u_range = np.max(vertices[:, 0]) - np.min(vertices[:, 0])\n",
    "        v_range = np.max(vertices[:, 1]) - np.min(vertices[:, 1])\n",
    "        u_longer_v = u_range > v_range\n",
    "        u_return = vertices[:, 0]\n",
    "        v_return = vertices[:, 1]\n",
    "        area_return = u_range * v_range\n",
    "        for angle in range(-70, 70, 5):\n",
    "            u_prime = vertices[:, 0] * np.cos(np.deg2rad(angle)) - vertices[:, 1] * np.sin(np.deg2rad(angle))\n",
    "            v_prime = vertices[:, 0] * np.sin(np.deg2rad(angle)) + vertices[:, 1] * np.cos(np.deg2rad(angle))\n",
    "            u_prime_range = np.max(u_prime) - np.min(u_prime)\n",
    "            v_prime_range = np.max(v_prime) - np.min(v_prime)\n",
    "            if u_prime_range < v_prime_range and u_longer_v:\n",
    "                continue\n",
    "            elif u_prime_range > v_prime_range and not u_longer_v:\n",
    "                continue\n",
    "            area = u_prime_range * v_prime_range\n",
    "            if area < area_return:\n",
    "                u_return = u_prime\n",
    "                v_return = v_prime\n",
    "                area_return = area\n",
    "        return np.stack((u_return, v_return), axis=-1) "
   ]
  },
  {
   "cell_type": "code",
   "execution_count": 122,
   "metadata": {},
   "outputs": [],
   "source": [
    "oriented_uvs = orient_uvs(slim.vertices())"
   ]
  },
  {
   "cell_type": "code",
   "execution_count": 123,
   "metadata": {},
   "outputs": [
    {
     "data": {
      "text/plain": [
       "<matplotlib.collections.PathCollection at 0x20841144490>"
      ]
     },
     "execution_count": 123,
     "metadata": {},
     "output_type": "execute_result"
    },
    {
     "data": {
      "image/png": "[encoded data removed]",
      "text/plain": [
       "<Figure size 640x480 with 1 Axes>"
      ]
     },
     "metadata": {},
     "output_type": "display_data"
    }
   ],
   "source": [
    "plt.scatter(oriented_uvs[:,0],oriented_uvs[:,1])"
   ]
  },
  {
   "cell_type": "code",
   "execution_count": 124,
   "metadata": {},
   "outputs": [],
   "source": [
    "uv_max = np.max(oriented_uvs, axis=0)\n",
    "uv_min = np.min(oriented_uvs, axis=0)\n",
    "size_uvs = np.ceil(uv_max-uv_min)"
   ]
  },
  {
   "cell_type": "code",
   "execution_count": 125,
   "metadata": {},
   "outputs": [
    {
     "data": {
      "text/plain": [
       "array([1985., 9108.])"
      ]
     },
     "execution_count": 125,
     "metadata": {},
     "output_type": "execute_result"
    }
   ],
   "source": [
    "size_uvs"
   ]
  },
  {
   "cell_type": "code",
   "execution_count": 126,
   "metadata": {},
   "outputs": [],
   "source": [
    "image_path = \"20231205141500/20231205141500_id_slim.png\"\n",
    "# Create a white image of the determined size\n",
    "image_size = (int(size_uvs[0]), int(size_uvs[1]))\n",
    "white_image = np.ones((image_size[1], image_size[0]), dtype=np.uint16) * 65535\n",
    "\n",
    "# Save the grayscale image\n",
    "Image.fromarray(white_image, mode='L').save(image_path)"
   ]
  },
  {
   "cell_type": "code",
   "execution_count": 127,
   "metadata": {},
   "outputs": [],
   "source": [
    "oriented_uvs -= uv_min\n",
    "oriented_uvs /= (uv_max-uv_min)"
   ]
  },
  {
   "cell_type": "code",
   "execution_count": 128,
   "metadata": {},
   "outputs": [],
   "source": [
    "uvs_slim = np.zeros((F_int.shape[0],3,2),dtype=np.float64)\n",
    "for i in range(F_int.shape[0]):\n",
    "    for t in range(3):\n",
    "        uvs_slim[i,t] = oriented_uvs[F_int[i,t]]\n",
    "uvs_slim = uvs_slim.reshape(-1,2)"
   ]
  },
  {
   "cell_type": "code",
   "execution_count": 129,
   "metadata": {},
   "outputs": [],
   "source": [
    "mesh.triangles = o3d.utility.Vector3iVector(F_int)\n",
    "mesh.triangle_uvs = o3d.utility.Vector2dVector(uvs_slim)"
   ]
  },
  {
   "cell_type": "code",
   "execution_count": 130,
   "metadata": {},
   "outputs": [
    {
     "name": "stdout",
     "output_type": "stream",
     "text": [
      "[Open3D WARNING] Write PNG failed: image has no data.\n",
      "[Open3D WARNING] Write OBJ successful, but failed to write texture file.\n"
     ]
    },
    {
     "data": {
      "text/plain": [
       "True"
      ]
     },
     "execution_count": 130,
     "metadata": {},
     "output_type": "execute_result"
    }
   ],
   "source": [
    "o3d.io.write_triangle_mesh('20231205141500/20231205141500_id_slim.obj', mesh)"
   ]
  },
  {
   "cell_type": "code",
   "execution_count": 98,
   "metadata": {},
   "outputs": [
    {
     "data": {
      "text/plain": [
       "array([9030.24226479, 1968.16160802])"
      ]
     },
     "execution_count": 98,
     "metadata": {},
     "output_type": "execute_result"
    }
   ],
   "source": [
    "np.max(uvs_slim, axis=0)"
   ]
  },
  {
   "cell_type": "code",
   "execution_count": 132,
   "metadata": {},
   "outputs": [],
   "source": [
    "### slim_ssp\n",
    "mesh = o3d.io.read_triangle_mesh(\"20231205141500/20231205141500_id_slim.obj\")\n",
    "V = np.asarray(mesh.vertices)\n",
    "N = np.asarray(mesh.vertex_normals)\n",
    "UV = np.asarray(mesh.triangle_uvs)  # Ensure your mesh has UV coordinates\n",
    "F = np.asarray(mesh.triangles)\n",
    "UV[:,0] *= 1985 # multiply by the .png dimension\n",
    "UV[:,1] *= 9108\n",
    "uv = np.zeros((V.shape[0], 2), dtype=np.float64)\n",
    "uvs = UV.reshape((F.shape[0], F.shape[1], 2))\n",
    "for t in range(F.shape[0]):\n",
    "    for v in range(F.shape[1]):\n",
    "        uv[F[t,v]] = uvs[t,v]"
   ]
  },
  {
   "cell_type": "code",
   "execution_count": 133,
   "metadata": {},
   "outputs": [
    {
     "name": "stderr",
     "output_type": "stream",
     "text": [
      "100%|██████████| 99740/99740 [00:00<00:00, 563022.62it/s]\n"
     ]
    }
   ],
   "source": [
    "q_faces = np.zeros((F.shape[0],3))\n",
    "for i in tqdm(range(F.shape[0])):\n",
    "    for t in range(3):\n",
    "        q_faces[i,t] = q[F[i,t]]\n",
    "\n",
    "q_f_torch = torch.from_numpy(q_faces)\n",
    "\n",
    "#test = torch.from_numpy(test)\n",
    "#p_torch = torch.from_numpy(uvs).detach().requires_grad_(True)\n",
    "p_torch = torch.from_numpy(uv).detach().requires_grad_(True)\n",
    "vertices = torch.from_numpy(V)\n",
    "faces = torch.from_numpy(F)\n",
    "optimizer = optim.AdamW([p_torch], lr=0.01)  # or any other optimizer and learning rate\n",
    "scheduler = torch.optim.lr_scheduler.ExponentialLR(optimizer, gamma=0.99)"
   ]
  },
  {
   "cell_type": "code",
   "execution_count": 134,
   "metadata": {},
   "outputs": [
    {
     "name": "stdout",
     "output_type": "stream",
     "text": [
      "Iteration 0, Energy: 13822793321968.512\n",
      "Iteration 100, Energy: 12919257224319.08\n",
      "Iteration 200, Energy: 12637124446764.107\n",
      "Iteration 300, Energy: 12537877725738.387\n",
      "Iteration 400, Energy: 12501743841959.89\n",
      "Iteration 500, Energy: 12488458704579.414\n",
      "Iteration 600, Energy: 12483564511003.523\n",
      "Iteration 700, Energy: 12481762198523.633\n",
      "Iteration 800, Energy: 12481099110130.766\n",
      "Iteration 900, Energy: 12480855379553.086\n",
      "Iteration 1000, Energy: 12480765861162.371\n",
      "Iteration 1100, Energy: 12480733002662.156\n",
      "Iteration 1200, Energy: 12480720947469.525\n",
      "Iteration 1300, Energy: 12480716526310.754\n",
      "Iteration 1400, Energy: 12480714905369.281\n",
      "Iteration 1500, Energy: 12480714311223.012\n",
      "Iteration 1600, Energy: 12480714093485.281\n",
      "Iteration 1700, Energy: 12480714013703.59\n",
      "Iteration 1800, Energy: 12480713984474.607\n",
      "Iteration 1900, Energy: 12480713973767.543\n"
     ]
    }
   ],
   "source": [
    "energies = []\n",
    "for iteration in range(2000):  # or another convergence condition\n",
    "    optimizer.zero_grad()  # Reset gradients\n",
    "    en = energy(p_torch, q_f_torch, faces)  # Compute current energ\n",
    "    en.backward()  # Compute gradients\n",
    "    #print(x.grad, torch.any(torch.isnan(x.grad)))\n",
    "    torch.nn.utils.clip_grad_norm_(p_torch.grad, max_norm=1.0)\n",
    "    #print(x.grad)\n",
    "    optimizer.step()  # Update positions\n",
    "    scheduler.step()\n",
    "    #x_old = x.clone().detach().requires_grad_(False)\n",
    "    if iteration % 100 == 0:  # Periodically check convergence or log progress\n",
    "        print(f'Iteration {iteration}, Energy: {en.item()}')\n",
    "        energies.append(en.item())"
   ]
  },
  {
   "cell_type": "code",
   "execution_count": 135,
   "metadata": {},
   "outputs": [],
   "source": [
    "pt_view = p_torch.view(-1,2).clone().detach().numpy()"
   ]
  },
  {
   "cell_type": "code",
   "execution_count": 137,
   "metadata": {},
   "outputs": [],
   "source": [
    "uvs_slim_ssp = np.zeros((F.shape[0],3,2), dtype=np.float64)\n",
    "for i in range(F.shape[0]):\n",
    "    for t in range(F.shape[1]):\n",
    "        uvs_slim_ssp[i,t] = pt_view[F[i,t]]\n",
    "uvs_slim_ssp = uvs_slim_ssp.reshape(-1,2)"
   ]
  },
  {
   "cell_type": "code",
   "execution_count": 138,
   "metadata": {},
   "outputs": [
    {
     "data": {
      "text/plain": [
       "array([[ 106.93905679, 6756.61577893],\n",
       "       [ 115.20071667, 6743.33126371],\n",
       "       [ 106.19237152, 6730.18958301],\n",
       "       ...,\n",
       "       [1865.78324878, 8249.49429   ],\n",
       "       [1875.84454472, 8261.48764367],\n",
       "       [1874.05970707, 8233.99255153]])"
      ]
     },
     "execution_count": 138,
     "metadata": {},
     "output_type": "execute_result"
    }
   ],
   "source": [
    "uvs_slim_ssp"
   ]
  },
  {
   "cell_type": "code",
   "execution_count": 139,
   "metadata": {},
   "outputs": [],
   "source": [
    "uv_max = np.max(uvs_slim_ssp, axis=0)\n",
    "uv_min = np.min(uvs_slim_ssp, axis=0)\n",
    "size_uvs = np.ceil(uv_max-uv_min)"
   ]
  },
  {
   "cell_type": "code",
   "execution_count": 140,
   "metadata": {},
   "outputs": [],
   "source": [
    "image_path = \"20231205141500/20231205141500_id_slim_ssp.png\"\n",
    "# Create a white image of the determined size\n",
    "image_size = (int(size_uvs[0]), int(size_uvs[1]))\n",
    "white_image = np.ones((image_size[1], image_size[0]), dtype=np.uint16) * 65535\n",
    "\n",
    "# Save the grayscale image\n",
    "Image.fromarray(white_image, mode='L').save(image_path)"
   ]
  },
  {
   "cell_type": "code",
   "execution_count": 141,
   "metadata": {},
   "outputs": [],
   "source": [
    "uvs_slim_ssp -= uv_min\n",
    "uvs_slim_ssp /= (uv_max-uv_min)"
   ]
  },
  {
   "cell_type": "code",
   "execution_count": 142,
   "metadata": {},
   "outputs": [],
   "source": [
    "mesh.triangles = o3d.utility.Vector3iVector(F)\n",
    "mesh.triangle_uvs = o3d.utility.Vector2dVector(uvs_slim_ssp)"
   ]
  },
  {
   "cell_type": "code",
   "execution_count": 145,
   "metadata": {},
   "outputs": [
    {
     "data": {
      "text/plain": [
       "array([[0.05468558, 0.74939928],\n",
       "       [0.05888627, 0.74792605],\n",
       "       [0.05430592, 0.74646867],\n",
       "       ...,\n",
       "       [0.94898001, 0.91495661],\n",
       "       [0.95409574, 0.91628664],\n",
       "       [0.95318823, 0.91323749]])"
      ]
     },
     "execution_count": 145,
     "metadata": {},
     "output_type": "execute_result"
    }
   ],
   "source": [
    "uvs_slim_ssp"
   ]
  },
  {
   "cell_type": "code",
   "execution_count": 146,
   "metadata": {},
   "outputs": [
    {
     "name": "stdout",
     "output_type": "stream",
     "text": [
      "[Open3D WARNING] Write PNG failed: image has no data.\n",
      "[Open3D WARNING] Write OBJ successful, but failed to write texture file.\n"
     ]
    },
    {
     "data": {
      "text/plain": [
       "True"
      ]
     },
     "execution_count": 146,
     "metadata": {},
     "output_type": "execute_result"
    }
   ],
   "source": [
    "o3d.io.write_triangle_mesh('20231205141500/20231205141500_id_slim_ssp.obj', mesh)"
   ]
  },
  {
   "cell_type": "code",
   "execution_count": 113,
   "metadata": {},
   "outputs": [
    {
     "data": {
      "text/plain": [
       "array([1969., 9031.])"
      ]
     },
     "execution_count": 113,
     "metadata": {},
     "output_type": "execute_result"
    }
   ],
   "source": [
    "size_uvs"
   ]
  },
  {
   "cell_type": "code",
   "execution_count": 114,
   "metadata": {},
   "outputs": [
    {
     "data": {
      "text/plain": [
       "<matplotlib.collections.PathCollection at 0x20842c0f430>"
      ]
     },
     "execution_count": 114,
     "metadata": {},
     "output_type": "execute_result"
    },
    {
     "data": {
      "image/png": "[encoded data removed]",
      "text/plain": [
       "<Figure size 640x480 with 1 Axes>"
      ]
     },
     "metadata": {},
     "output_type": "display_data"
    }
   ],
   "source": [
    "plt.scatter(uvs_slim_ssp[:,0], uvs_slim_ssp[:,1])"
   ]
  },
  {
   "cell_type": "code",
   "execution_count": null,
   "metadata": {},
   "outputs": [],
   "source": []
  }
 ],
 "metadata": {
  "kernelspec": {
   "display_name": "flatboi-env",
   "language": "python",
   "name": "python3"
  },
  "language_info": {
   "codemirror_mode": {
    "name": "ipython",
    "version": 3
   },
   "file_extension": ".py",
   "mimetype": "text/x-python",
   "name": "python",
   "nbconvert_exporter": "python",
   "pygments_lexer": "ipython3",
   "version": "3.10.13"
  }
 },
 "nbformat": 4,
 "nbformat_minor": 2
}
